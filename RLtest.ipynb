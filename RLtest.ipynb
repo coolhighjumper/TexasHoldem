{
 "cells": [
  {
   "cell_type": "code",
   "execution_count": 3,
   "metadata": {},
   "outputs": [],
   "source": [
    "import pandas as pd \n",
    "import numpy as np\n",
    "import time"
   ]
  },
  {
   "cell_type": "code",
   "execution_count": 21,
   "metadata": {},
   "outputs": [],
   "source": [
    "N_STATES = 6   # 1维世界的宽度\n",
    "ACTIONS = ['left', 'right']     # 探索者的可用动作\n",
    "EPSILON = 0.9   # 贪婪度 greedy\n",
    "ALPHA = 0.1     # 学习率\n",
    "GAMMA = 0.9    # 奖励递减值\n",
    "MAX_EPISODES = 20   # 最大回合数\n",
    "FRESH_TIME = 0.3    # 移动间隔时间"
   ]
  },
  {
   "cell_type": "code",
   "execution_count": 12,
   "metadata": {},
   "outputs": [],
   "source": [
    "def build_q_table(n_states, actions):\n",
    "    table = pd.DataFrame(\n",
    "        np.zeros((n_states, len(actions))),     # q_table 全 0 初始\n",
    "        columns=actions,    # columns 对应的是行为名称\n",
    "    )\n",
    "    return table\n",
    "\n",
    "# q_table:\n",
    "#    left  right\n",
    "# 0   0.0    0.0\n",
    "# 1   0.0    0.0\n",
    "# 2   0.0    0.0\n",
    "# 3   0.0    0.0\n",
    "# 4   0.0    0.0\n",
    "# 5   0.0    0.0\n"
   ]
  },
  {
   "cell_type": "code",
   "execution_count": 6,
   "metadata": {},
   "outputs": [],
   "source": [
    "# 在某个 state 地点, 选择行为\n",
    "def choose_action(state, q_table):\n",
    "    state_actions = q_table.iloc[state, :]  # 选出这个 state 的所有 action 值\n",
    "    if (np.random.uniform() > EPSILON) or (state_actions.all() == 0):  # 非贪婪 or 或者这个 state 还没有探索过(全零return true==0)\n",
    "        action_name = np.random.choice(ACTIONS)\n",
    "    else:\n",
    "        action_name = state_actions.idxmax()    # 贪婪模式\n",
    "    return action_name"
   ]
  },
  {
   "cell_type": "code",
   "execution_count": 7,
   "metadata": {},
   "outputs": [],
   "source": [
    "def get_env_feedback(S, A):\n",
    "    # This is how agent will interact with the environment\n",
    "    if A == 'right':    # move right\n",
    "        if S == N_STATES - 2:   # terminate\n",
    "            S_ = 'terminal'\n",
    "            R = 1\n",
    "        else:\n",
    "            S_ = S + 1\n",
    "            R = 0\n",
    "    else:   # move left\n",
    "        R = 0\n",
    "        if S == 0:\n",
    "            S_ = S  # reach the wall\n",
    "        else:\n",
    "            S_ = S - 1\n",
    "    return S_, R"
   ]
  },
  {
   "cell_type": "code",
   "execution_count": 8,
   "metadata": {},
   "outputs": [],
   "source": [
    "def update_env(S, episode, step_counter):\n",
    "    # This is how environment be updated\n",
    "    env_list = ['-']*(N_STATES-1) + ['T']   # '---------T' our environment\n",
    "    if S == 'terminal':\n",
    "        interaction = 'Episode %s: total_steps = %s' % (episode+1, step_counter)\n",
    "        print('\\r{}'.format(interaction), end='')\n",
    "        time.sleep(2)\n",
    "        print('\\r                                ', end='')\n",
    "    else:\n",
    "        env_list[S] = 'o'\n",
    "        interaction = ''.join(env_list)\n",
    "        print('\\r{}'.format(interaction), end='')\n",
    "        time.sleep(FRESH_TIME)"
   ]
  },
  {
   "cell_type": "code",
   "execution_count": 9,
   "metadata": {},
   "outputs": [],
   "source": [
    "def rl():\n",
    "    q_table = build_q_table(N_STATES, ACTIONS)  # 初始 q table\n",
    "    for episode in range(MAX_EPISODES):     # 回合\n",
    "        step_counter = 0\n",
    "        S = 0   # 回合初始位置\n",
    "        is_terminated = False   # 是否回合结束\n",
    "        update_env(S, episode, step_counter)    # 环境更新\n",
    "        while not is_terminated:\n",
    "\n",
    "            A = choose_action(S, q_table)   # 选行为\n",
    "            S_, R = get_env_feedback(S, A)  # 实施行为并得到环境的反馈\n",
    "            q_predict = q_table.loc[S, A]    # 估算的(状态-行为)值\n",
    "            if S_ != 'terminal':\n",
    "                q_target = R + GAMMA * q_table.iloc[S_, :].max()   #  实际的(状态-行为)值 (回合没结束)\n",
    "            else:\n",
    "                q_target = R     #  实际的(状态-行为)值 (回合结束)\n",
    "                is_terminated = True    # terminate this episode\n",
    "\n",
    "            q_table.loc[S, A] += ALPHA * (q_target - q_predict)  #  q_table 更新\n",
    "            S = S_  # 探索者移动到下一个 state\n",
    "\n",
    "            update_env(S, episode, step_counter+1)  # 环境更新\n",
    "\n",
    "            step_counter += 1\n",
    "    return q_table\n"
   ]
  },
  {
   "cell_type": "code",
   "execution_count": 22,
   "metadata": {},
   "outputs": [
    {
     "name": "stdout",
     "output_type": "stream",
     "text": [
      "--o--T                          "
     ]
    },
    {
     "name": "stderr",
     "output_type": "stream",
     "text": [
      "/usr/local/lib/python3.6/site-packages/ipykernel_launcher.py:7: FutureWarning: 'argmax' is deprecated. Use 'idxmax' instead. The behavior of 'argmax' will be corrected to return the positional maximum in the future. Use 'series.values.argmax' to get the position of the maximum now.\n",
      "  import sys\n"
     ]
    },
    {
     "name": "stdout",
     "output_type": "stream",
     "text": [
      "                                \n",
      "Q-table:\n",
      "\n",
      "       left     right\n",
      "0  0.000005  0.035320\n",
      "1  0.001276  0.108782\n",
      "2  0.000030  0.280509\n",
      "3  0.009508  0.572472\n",
      "4  0.051006  0.878423\n",
      "5  0.000000  0.000000\n"
     ]
    }
   ],
   "source": [
    "q_table = rl()\n",
    "print('\\r\\nQ-table:\\n')\n",
    "print(q_table)"
   ]
  },
  {
   "cell_type": "code",
   "execution_count": null,
   "metadata": {},
   "outputs": [],
   "source": []
  },
  {
   "cell_type": "code",
   "execution_count": null,
   "metadata": {},
   "outputs": [],
   "source": []
  },
  {
   "cell_type": "code",
   "execution_count": 1,
   "metadata": {},
   "outputs": [],
   "source": [
    "import gym\n",
    "import holdem"
   ]
  },
  {
   "cell_type": "code",
   "execution_count": 3,
   "metadata": {},
   "outputs": [],
   "source": [
    "gym.make()"
   ]
  },
  {
   "cell_type": "code",
   "execution_count": 1,
   "metadata": {
    "scrolled": false
   },
   "outputs": [
    {
     "name": "stdout",
     "output_type": "stream",
     "text": [
      "total pot: 35\n",
      "community:\n",
      "- [  ],[  ],[  ],[  ],[  ] \n",
      "players:\n",
      "0 [9\u001b[31m♦\u001b[0m],[T\u001b[31m♦\u001b[0m] stack: 1990\n",
      "1 [J\u001b[31m♦\u001b[0m],[2♣] stack: 1975\n",
      "2 [  ],[  ] stack: 0\n",
      "3 [  ],[  ] stack: 0\n",
      "total pot: 50\n",
      "last action by player 0:\n",
      "\u001b[33m- call, current bet: 25\u001b[0m\n",
      "community:\n",
      "- [  ],[  ],[  ],[  ],[  ] \n",
      "players:\n",
      "0 [9\u001b[31m♦\u001b[0m],[T\u001b[31m♦\u001b[0m] stack: 1975\n",
      "1 [J\u001b[31m♦\u001b[0m],[2♣] stack: 1975\n",
      "2 [  ],[  ] stack: 0\n",
      "3 [  ],[  ] stack: 0\n",
      "total pot: 50\n",
      "last action by player 1:\n",
      "\u001b[37m_ check\u001b[0m\n",
      "community:\n",
      "- [  ],[  ],[  ],[  ],[  ] \n",
      "players:\n",
      "0 [9\u001b[31m♦\u001b[0m],[T\u001b[31m♦\u001b[0m] stack: 1975\n",
      "1 [J\u001b[31m♦\u001b[0m],[2♣] stack: 1975\n",
      "2 [  ],[  ] stack: 0\n",
      "3 [  ],[  ] stack: 0\n",
      "total pot: 50\n",
      "last action by player 0:\n",
      "\u001b[37m_ check\u001b[0m\n",
      "community:\n",
      "- [Q\u001b[31m♦\u001b[0m],[7\u001b[31m♥\u001b[0m],[5\u001b[31m♦\u001b[0m],[  ],[  ] \n",
      "players:\n",
      "0 [9\u001b[31m♦\u001b[0m],[T\u001b[31m♦\u001b[0m] stack: 1975\n",
      "1 [J\u001b[31m♦\u001b[0m],[2♣] stack: 1975\n",
      "2 [  ],[  ] stack: 0\n",
      "3 [  ],[  ] stack: 0\n",
      "total pot: 50\n",
      "last action by player 0:\n",
      "\u001b[37m_ check\u001b[0m\n",
      "community:\n",
      "- [Q\u001b[31m♦\u001b[0m],[7\u001b[31m♥\u001b[0m],[5\u001b[31m♦\u001b[0m],[  ],[  ] \n",
      "players:\n",
      "0 [9\u001b[31m♦\u001b[0m],[T\u001b[31m♦\u001b[0m] stack: 1975\n",
      "1 [J\u001b[31m♦\u001b[0m],[2♣] stack: 1975\n",
      "2 [  ],[  ] stack: 0\n",
      "3 [  ],[  ] stack: 0\n",
      "total pot: 50\n",
      "last action by player 1:\n",
      "\u001b[37m_ check\u001b[0m\n",
      "community:\n",
      "- [Q\u001b[31m♦\u001b[0m],[7\u001b[31m♥\u001b[0m],[5\u001b[31m♦\u001b[0m],[  ],[  ] \n",
      "players:\n",
      "0 [9\u001b[31m♦\u001b[0m],[T\u001b[31m♦\u001b[0m] stack: 1975\n",
      "1 [J\u001b[31m♦\u001b[0m],[2♣] stack: 1975\n",
      "2 [  ],[  ] stack: 0\n",
      "3 [  ],[  ] stack: 0\n",
      "total pot: 50\n",
      "last action by player 0:\n",
      "\u001b[37m_ check\u001b[0m\n",
      "community:\n",
      "- [Q\u001b[31m♦\u001b[0m],[7\u001b[31m♥\u001b[0m],[5\u001b[31m♦\u001b[0m],[8♣],[  ] \n",
      "players:\n",
      "0 [9\u001b[31m♦\u001b[0m],[T\u001b[31m♦\u001b[0m] stack: 1975\n",
      "1 [J\u001b[31m♦\u001b[0m],[2♣] stack: 1975\n",
      "2 [  ],[  ] stack: 0\n",
      "3 [  ],[  ] stack: 0\n",
      "total pot: 50\n",
      "last action by player 1:\n",
      "\u001b[37m_ check\u001b[0m\n",
      "community:\n",
      "- [Q\u001b[31m♦\u001b[0m],[7\u001b[31m♥\u001b[0m],[5\u001b[31m♦\u001b[0m],[8♣],[  ] \n",
      "players:\n",
      "0 [9\u001b[31m♦\u001b[0m],[T\u001b[31m♦\u001b[0m] stack: 1975\n",
      "1 [J\u001b[31m♦\u001b[0m],[2♣] stack: 1975\n",
      "2 [  ],[  ] stack: 0\n",
      "3 [  ],[  ] stack: 0\n",
      "total pot: 50\n",
      "last action by player 0:\n",
      "\u001b[37m_ check\u001b[0m\n",
      "community:\n",
      "- [Q\u001b[31m♦\u001b[0m],[7\u001b[31m♥\u001b[0m],[5\u001b[31m♦\u001b[0m],[8♣],[  ] \n",
      "players:\n",
      "0 [9\u001b[31m♦\u001b[0m],[T\u001b[31m♦\u001b[0m] stack: 1975\n",
      "1 [J\u001b[31m♦\u001b[0m],[2♣] stack: 1975\n",
      "2 [  ],[  ] stack: 0\n",
      "3 [  ],[  ] stack: 0\n",
      "total pot: 50\n",
      "last action by player 1:\n",
      "\u001b[37m_ check\u001b[0m\n",
      "community:\n",
      "- [Q\u001b[31m♦\u001b[0m],[7\u001b[31m♥\u001b[0m],[5\u001b[31m♦\u001b[0m],[8♣],[7♣] \n",
      "players:\n",
      "0 [9\u001b[31m♦\u001b[0m],[T\u001b[31m♦\u001b[0m] stack: 1975\n",
      "1 [J\u001b[31m♦\u001b[0m],[2♣] stack: 1975\n",
      "2 [  ],[  ] stack: 0\n",
      "3 [  ],[  ] stack: 0\n",
      "total pot: 50\n",
      "last action by player 1:\n",
      "\u001b[37m_ check\u001b[0m\n",
      "community:\n",
      "- [Q\u001b[31m♦\u001b[0m],[7\u001b[31m♥\u001b[0m],[5\u001b[31m♦\u001b[0m],[8♣],[7♣] \n",
      "players:\n",
      "0 [9\u001b[31m♦\u001b[0m],[T\u001b[31m♦\u001b[0m] stack: 1975\n",
      "1 [J\u001b[31m♦\u001b[0m],[2♣] stack: 1975\n",
      "2 [  ],[  ] stack: 0\n",
      "3 [  ],[  ] stack: 0\n",
      "total pot: 50\n",
      "last action by player 0:\n",
      "\u001b[37m_ check\u001b[0m\n",
      "community:\n",
      "- [Q\u001b[31m♦\u001b[0m],[7\u001b[31m♥\u001b[0m],[5\u001b[31m♦\u001b[0m],[8♣],[7♣] \n",
      "players:\n",
      "0 [9\u001b[31m♦\u001b[0m],[T\u001b[31m♦\u001b[0m] stack: 1975\n",
      "1 [J\u001b[31m♦\u001b[0m],[2♣] stack: 1975\n",
      "2 [  ],[  ] stack: 0\n",
      "3 [  ],[  ] stack: 0\n",
      "total pot: 50\n",
      "last action by player 1:\n",
      "\u001b[37m_ check\u001b[0m\n",
      "community:\n",
      "- [Q\u001b[31m♦\u001b[0m],[7\u001b[31m♥\u001b[0m],[5\u001b[31m♦\u001b[0m],[8♣],[7♣] \n",
      "players:\n",
      "0 [9\u001b[31m♦\u001b[0m],[T\u001b[31m♦\u001b[0m] stack: 1975\n",
      "1 [J\u001b[31m♦\u001b[0m],[2♣] stack: 2025\n",
      "2 [  ],[  ] stack: 0\n",
      "3 [  ],[  ] stack: 0\n"
     ]
    }
   ],
   "source": [
    "import gym\n",
    "import holdem\n",
    "\n",
    "def play_out_hand(env, n_seats):\n",
    "  # reset environment, gather relevant observations\n",
    "  (player_states, (community_infos, community_cards)) = env.reset()\n",
    "  (player_infos, player_hands) = zip(*player_states)\n",
    "\n",
    "  # display the table, cards and all\n",
    "  env.render(mode='human')\n",
    "\n",
    "  terminal = False\n",
    "  while not terminal:\n",
    "    # play safe actions, check when noone else has raised, call when raised.\n",
    "    actions = holdem.safe_actions(community_infos, n_seats=n_seats)\n",
    "    (player_states, (community_infos, community_cards)), rews, terminal, info = env.step(actions)\n",
    "    env.render(mode='human')\n",
    "\n",
    "env = gym.make('TexasHoldem-v1') # holdem.TexasHoldemEnv(2)\n",
    "\n",
    "# start with 2 players\n",
    "env.add_player(0, stack=2000) # add a player to seat 0 with 2000 \"chips\"\n",
    "env.add_player(1, stack=2000) # add another player to seat 1 with 2000 \"chips\"\n",
    "# play out a hand\n",
    "play_out_hand(env, env.n_seats)\n",
    "\n",
    "# # add one more player\n",
    "# env.add_player(2, stack=2000) # add another player to seat 1 with 2000 \"chips\"\n",
    "# # play out another hand\n",
    "# play_out_hand(env, env.n_seats)"
   ]
  },
  {
   "cell_type": "code",
   "execution_count": null,
   "metadata": {},
   "outputs": [],
   "source": []
  }
 ],
 "metadata": {
  "kernelspec": {
   "display_name": "Python 3",
   "language": "python",
   "name": "python3"
  },
  "language_info": {
   "codemirror_mode": {
    "name": "ipython",
    "version": 3
   },
   "file_extension": ".py",
   "mimetype": "text/x-python",
   "name": "python",
   "nbconvert_exporter": "python",
   "pygments_lexer": "ipython3",
   "version": "3.6.5"
  }
 },
 "nbformat": 4,
 "nbformat_minor": 2
}
